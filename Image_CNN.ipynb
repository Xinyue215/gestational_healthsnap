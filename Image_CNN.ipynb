{
 "cells": [
  {
   "cell_type": "code",
   "execution_count": 26,
   "id": "b94b077c",
   "metadata": {},
   "outputs": [],
   "source": [
    "import tensorflow as tf\n",
    "from tensorflow.keras import layers, models, regularizers\n",
    "from tensorflow.keras.utils import to_categorical\n",
    "from tensorflow.keras.preprocessing.image import ImageDataGenerator\n",
    "from tensorflow.keras.layers import Conv2D, MaxPool2D, Dropout, Flatten, Dense\n",
    "from tensorflow.keras.models import Sequential\n",
    "from keras.preprocessing.image import load_img, img_to_array\n",
    "from tensorflow.keras import layers, models, initializers\n",
    "from sklearn.preprocessing import LabelEncoder\n",
    "from sklearn.model_selection import train_test_split\n",
    "from sklearn.metrics import accuracy_score\n",
    "import numpy as np\n",
    "import json\n",
    "import pandas as pd\n",
    "import os\n",
    "import glob\n"
   ]
  },
  {
   "cell_type": "markdown",
   "id": "769b5693-1e06-4e20-b75c-2fa854800141",
   "metadata": {},
   "source": [
    "# Get Data File"
   ]
  },
  {
   "cell_type": "code",
   "execution_count": 2,
   "id": "f0ba6f87-535a-4e72-923c-790e202b7001",
   "metadata": {},
   "outputs": [
    {
     "name": "stdout",
     "output_type": "stream",
     "text": [
      "--2024-03-25 23:34:11--  http://data.vision.ee.ethz.ch/cvl/food-101.tar.gz\n",
      "Resolving data.vision.ee.ethz.ch (data.vision.ee.ethz.ch)... 2001:67c:10ec:36c2::178, 129.132.52.178\n",
      "Connecting to data.vision.ee.ethz.ch (data.vision.ee.ethz.ch)|2001:67c:10ec:36c2::178|:80... connected.\n",
      "HTTP request sent, awaiting response... 302 Found\n",
      "Location: https://data.vision.ee.ethz.ch/cvl/food-101.tar.gz [following]\n",
      "--2024-03-25 23:34:12--  https://data.vision.ee.ethz.ch/cvl/food-101.tar.gz\n",
      "Connecting to data.vision.ee.ethz.ch (data.vision.ee.ethz.ch)|2001:67c:10ec:36c2::178|:443... connected.\n",
      "HTTP request sent, awaiting response... 200 OK\n",
      "Length: 4996278331 (4.7G) [application/x-gzip]\n",
      "Saving to: ‘food-101.tar.gz’\n",
      "\n",
      "food-101.tar.gz     100%[===================>]   4.65G  5.63MB/s    in 24m 43s \n",
      "\n",
      "2024-03-25 23:58:55 (3.21 MB/s) - ‘food-101.tar.gz’ saved [4996278331/4996278331]\n",
      "\n",
      "Dataset downloaded!\n",
      "Extracting data..\n",
      "Extraction done!\n"
     ]
    }
   ],
   "source": [
    "!wget http://data.vision.ee.ethz.ch/cvl/food-101.tar.gz\n",
    "print(\"Dataset downloaded!\")\n",
    "print(\"Extracting data..\")\n",
    "!tar xzvf food-101.tar.gz > /dev/null 2>&1\n",
    "print(\"Extraction done!\")"
   ]
  },
  {
   "cell_type": "code",
   "execution_count": 3,
   "id": "82f1a529-06d6-4e1a-9115-1aa1ae47dd49",
   "metadata": {},
   "outputs": [],
   "source": [
    "# img_height, img_width = 299, 299\n",
    "# batch_size = 32\n",
    "data_directory = 'food-101/images'  \n",
    "\n",
    "# Load train and test JSON files\n",
    "with open('food-101/meta/train.json') as f:\n",
    "    train_data = json.load(f)\n",
    "\n",
    "with open('food-101/meta/test.json') as f:\n",
    "    test_data = json.load(f)\n",
    "\n",
    "# Create DataFrame for train and test data\n",
    "train_df = pd.DataFrame([(os.path.join(data_directory, f\"{category}/{unique_id.split('/')[-1]}.jpg\"), category) for category, unique_ids in train_data.items() for unique_id in unique_ids], columns=['filename', 'category'])\n",
    "test_df = pd.DataFrame([(os.path.join(data_directory, f\"{category}/{unique_id.split('/')[-1]}.jpg\"), category) for category, unique_ids in test_data.items() for unique_id in unique_ids], columns=['filename', 'category'])\n"
   ]
  },
  {
   "cell_type": "markdown",
   "id": "65e48f2e-0932-4d0f-98f0-6ac8ff8d91c8",
   "metadata": {},
   "source": [
    "# Preprocess Image: tranform to numpy arrays "
   ]
  },
  {
   "cell_type": "code",
   "execution_count": 4,
   "id": "ce2ee602-ce17-454c-be5d-d73793bff3e6",
   "metadata": {},
   "outputs": [
    {
     "name": "stdout",
     "output_type": "stream",
     "text": [
      "Processed 1000 out of 75750 images\n",
      "Processed 2000 out of 75750 images\n",
      "Processed 3000 out of 75750 images\n",
      "Processed 4000 out of 75750 images\n",
      "Processed 5000 out of 75750 images\n",
      "Processed 6000 out of 75750 images\n",
      "Processed 7000 out of 75750 images\n",
      "Processed 8000 out of 75750 images\n",
      "Processed 9000 out of 75750 images\n",
      "Processed 10000 out of 75750 images\n",
      "Processed 11000 out of 75750 images\n",
      "Processed 12000 out of 75750 images\n",
      "Processed 13000 out of 75750 images\n",
      "Processed 14000 out of 75750 images\n",
      "Processed 15000 out of 75750 images\n",
      "Processed 16000 out of 75750 images\n",
      "Processed 17000 out of 75750 images\n",
      "Processed 18000 out of 75750 images\n",
      "Processed 19000 out of 75750 images\n",
      "Processed 20000 out of 75750 images\n",
      "Processed 21000 out of 75750 images\n",
      "Processed 22000 out of 75750 images\n",
      "Processed 23000 out of 75750 images\n",
      "Processed 24000 out of 75750 images\n",
      "Processed 25000 out of 75750 images\n",
      "Processed 26000 out of 75750 images\n",
      "Processed 27000 out of 75750 images\n",
      "Processed 28000 out of 75750 images\n",
      "Processed 29000 out of 75750 images\n",
      "Processed 30000 out of 75750 images\n",
      "Processed 31000 out of 75750 images\n",
      "Processed 32000 out of 75750 images\n",
      "Processed 33000 out of 75750 images\n",
      "Processed 34000 out of 75750 images\n",
      "Processed 35000 out of 75750 images\n",
      "Processed 36000 out of 75750 images\n",
      "Processed 37000 out of 75750 images\n",
      "Processed 38000 out of 75750 images\n",
      "Processed 39000 out of 75750 images\n",
      "Processed 40000 out of 75750 images\n",
      "Processed 41000 out of 75750 images\n",
      "Processed 42000 out of 75750 images\n",
      "Processed 43000 out of 75750 images\n",
      "Processed 44000 out of 75750 images\n",
      "Processed 45000 out of 75750 images\n",
      "Processed 46000 out of 75750 images\n",
      "Processed 47000 out of 75750 images\n",
      "Processed 48000 out of 75750 images\n",
      "Processed 49000 out of 75750 images\n",
      "Processed 50000 out of 75750 images\n",
      "Processed 51000 out of 75750 images\n",
      "Processed 52000 out of 75750 images\n",
      "Processed 53000 out of 75750 images\n",
      "Processed 54000 out of 75750 images\n",
      "Processed 55000 out of 75750 images\n",
      "Processed 56000 out of 75750 images\n",
      "Processed 57000 out of 75750 images\n",
      "Processed 58000 out of 75750 images\n",
      "Processed 59000 out of 75750 images\n",
      "Processed 60000 out of 75750 images\n",
      "Processed 61000 out of 75750 images\n",
      "Processed 62000 out of 75750 images\n",
      "Processed 63000 out of 75750 images\n",
      "Processed 64000 out of 75750 images\n",
      "Processed 65000 out of 75750 images\n",
      "Processed 66000 out of 75750 images\n",
      "Processed 67000 out of 75750 images\n",
      "Processed 68000 out of 75750 images\n",
      "Processed 69000 out of 75750 images\n",
      "Processed 70000 out of 75750 images\n",
      "Processed 71000 out of 75750 images\n",
      "Processed 72000 out of 75750 images\n",
      "Processed 73000 out of 75750 images\n",
      "Processed 74000 out of 75750 images\n",
      "Processed 75000 out of 75750 images\n",
      "Processed 75750 out of 75750 images\n"
     ]
    }
   ],
   "source": [
    "def preprocess_image(image_path, target_size=(299, 299)):\n",
    "    img = load_img(image_path, target_size=target_size)\n",
    "    # Convert to RGB mode\n",
    "    img = img.convert('RGB')\n",
    "    # Convert to numpy array\n",
    "    img_array = img_to_array(img)\n",
    "    # Normalize pixel values to between 0 and 1\n",
    "    img_array /= 255.\n",
    "    return img_array\n",
    "\n",
    "def preprocess_images_in_batches(image_paths, batch_size=1000, target_size=(299, 299), train = True):\n",
    "    if train:\n",
    "        dataset = 'train'\n",
    "    else:\n",
    "        dataset = 'test'\n",
    "        \n",
    "    num_images = len(image_paths)\n",
    "    \n",
    "    for i in range(0, num_images, batch_size):\n",
    "        batch_paths = image_paths[i:i+batch_size]\n",
    "        batch_images = [preprocess_image(image_path, target_size) for image_path in batch_paths]\n",
    "        print(f\"Processed {min(i+batch_size, num_images)} out of {num_images} images\")\n",
    "        np.save(f'Processed_images/{dataset}/inception_input_image_batch_{i}.npy', batch_images)\n",
    "    \n",
    "\n",
    "\n",
    "image_paths = train_df['filename'].tolist()\n",
    "preprocess_images_in_batches(image_paths)"
   ]
  },
  {
   "cell_type": "code",
   "execution_count": null,
   "id": "ef5f5da4-1af3-4506-b3c4-25ea0c2c2711",
   "metadata": {},
   "outputs": [],
   "source": []
  },
  {
   "cell_type": "code",
   "execution_count": 5,
   "id": "e97938e7-07c6-486b-bb45-cb06d513254a",
   "metadata": {},
   "outputs": [
    {
     "name": "stdout",
     "output_type": "stream",
     "text": [
      "Processed 1000 out of 25250 images\n",
      "Processed 2000 out of 25250 images\n",
      "Processed 3000 out of 25250 images\n",
      "Processed 4000 out of 25250 images\n",
      "Processed 5000 out of 25250 images\n",
      "Processed 6000 out of 25250 images\n",
      "Processed 7000 out of 25250 images\n",
      "Processed 8000 out of 25250 images\n",
      "Processed 9000 out of 25250 images\n",
      "Processed 10000 out of 25250 images\n",
      "Processed 11000 out of 25250 images\n",
      "Processed 12000 out of 25250 images\n",
      "Processed 13000 out of 25250 images\n",
      "Processed 14000 out of 25250 images\n",
      "Processed 15000 out of 25250 images\n",
      "Processed 16000 out of 25250 images\n",
      "Processed 17000 out of 25250 images\n",
      "Processed 18000 out of 25250 images\n",
      "Processed 19000 out of 25250 images\n",
      "Processed 20000 out of 25250 images\n",
      "Processed 21000 out of 25250 images\n",
      "Processed 22000 out of 25250 images\n",
      "Processed 23000 out of 25250 images\n",
      "Processed 24000 out of 25250 images\n",
      "Processed 25000 out of 25250 images\n",
      "Processed 25250 out of 25250 images\n"
     ]
    }
   ],
   "source": [
    "image_paths = test_df['filename'].tolist()\n",
    "preprocess_images_in_batches(image_paths, train = False)"
   ]
  },
  {
   "cell_type": "code",
   "execution_count": null,
   "id": "299f8971-1b24-4fa0-a56a-c19043e20387",
   "metadata": {},
   "outputs": [],
   "source": []
  },
  {
   "cell_type": "markdown",
   "id": "011ee2a3-a2b7-4d9d-a2ec-4f75bd30f5ef",
   "metadata": {},
   "source": [
    "# Train latent vectors using Inception model"
   ]
  },
  {
   "cell_type": "code",
   "execution_count": 6,
   "id": "ce775342-8603-4806-8273-7fad3c92fa67",
   "metadata": {},
   "outputs": [],
   "source": [
    "# include_top=False will discard avg_pool before prediction layer\n",
    "inception = tf.keras.applications.inception_v3.InceptionV3(include_top=True, input_shape=(299, 299, 3))\n",
    "inception = tf.keras.Model([inception.input], [inception.layers[-2].output]) # manually discard prediction layer"
   ]
  },
  {
   "cell_type": "code",
   "execution_count": 7,
   "id": "d0420eae-5dd6-4901-b2d8-e40d67e72488",
   "metadata": {},
   "outputs": [
    {
     "name": "stdout",
     "output_type": "stream",
     "text": [
      "finished batch 0\n",
      "finished batch 1000\n",
      "finished batch 2000\n",
      "finished batch 3000\n",
      "finished batch 4000\n",
      "finished batch 5000\n",
      "finished batch 6000\n",
      "finished batch 7000\n",
      "finished batch 8000\n",
      "finished batch 9000\n",
      "finished batch 10000\n",
      "finished batch 11000\n",
      "finished batch 12000\n",
      "finished batch 13000\n",
      "finished batch 14000\n",
      "finished batch 15000\n",
      "finished batch 16000\n",
      "finished batch 17000\n",
      "finished batch 18000\n",
      "finished batch 19000\n",
      "finished batch 20000\n",
      "finished batch 21000\n",
      "finished batch 22000\n",
      "finished batch 23000\n",
      "finished batch 24000\n",
      "finished batch 25000\n",
      "finished batch 26000\n",
      "finished batch 27000\n",
      "finished batch 28000\n",
      "finished batch 29000\n",
      "finished batch 30000\n",
      "finished batch 31000\n",
      "finished batch 32000\n",
      "finished batch 33000\n",
      "finished batch 34000\n",
      "finished batch 35000\n",
      "finished batch 36000\n",
      "finished batch 37000\n",
      "finished batch 38000\n",
      "finished batch 39000\n",
      "finished batch 40000\n",
      "finished batch 41000\n",
      "finished batch 42000\n",
      "finished batch 43000\n",
      "finished batch 44000\n",
      "finished batch 45000\n",
      "finished batch 46000\n",
      "finished batch 47000\n",
      "finished batch 48000\n",
      "finished batch 49000\n",
      "finished batch 50000\n",
      "finished batch 51000\n",
      "finished batch 52000\n",
      "finished batch 53000\n",
      "finished batch 54000\n",
      "finished batch 55000\n",
      "finished batch 56000\n",
      "finished batch 57000\n",
      "finished batch 58000\n",
      "finished batch 59000\n",
      "finished batch 60000\n",
      "finished batch 61000\n",
      "finished batch 62000\n",
      "finished batch 63000\n",
      "finished batch 64000\n",
      "finished batch 65000\n",
      "finished batch 66000\n",
      "finished batch 67000\n",
      "finished batch 68000\n",
      "finished batch 69000\n",
      "finished batch 70000\n",
      "finished batch 71000\n",
      "finished batch 72000\n",
      "finished batch 73000\n",
      "finished batch 74000\n",
      "finished batch 75000\n"
     ]
    }
   ],
   "source": [
    "batch_size = 50\n",
    "\n",
    "@tf.function\n",
    "def calculate_latent_vectors(images_batch):\n",
    "    latent_vectors = inception(images_batch)\n",
    "    return latent_vectors\n",
    "    \n",
    "for i in range(0, 76000, 1000):\n",
    "    images = np.load(f'Processed_images/train/inception_input_image_batch_{i}.npy')\n",
    "    dataset = tf.data.Dataset.from_tensor_slices(images)\n",
    "    images_batch = dataset.batch(batch_size)\n",
    "    \n",
    "    # Calculate latent vectors for each batch\n",
    "    latent_vectors_list = []\n",
    "    for batch in images_batch:\n",
    "        latent_vectors = calculate_latent_vectors(batch)\n",
    "        latent_vectors_list.append(latent_vectors)\n",
    "    \n",
    "    # Stack latent vectors from different batches\n",
    "    latent_vectors_stacked = tf.concat(latent_vectors_list, axis=0)\n",
    "    \n",
    "    # Save latent vectors to a file\n",
    "    np.save(f'latent_vectors/train/batch_{i}.npy', latent_vectors_stacked.numpy())\n",
    "    print(f'finished batch {i}')"
   ]
  },
  {
   "cell_type": "code",
   "execution_count": 8,
   "id": "ca11d2bf-ee5a-4c66-a85c-91bae8aababd",
   "metadata": {},
   "outputs": [
    {
     "name": "stdout",
     "output_type": "stream",
     "text": [
      "finished batch 0\n",
      "finished batch 1000\n",
      "finished batch 2000\n",
      "finished batch 3000\n",
      "finished batch 4000\n",
      "finished batch 5000\n",
      "finished batch 6000\n",
      "finished batch 7000\n",
      "finished batch 8000\n",
      "finished batch 9000\n",
      "finished batch 10000\n",
      "finished batch 11000\n",
      "finished batch 12000\n",
      "finished batch 13000\n",
      "finished batch 14000\n",
      "finished batch 15000\n",
      "finished batch 16000\n",
      "finished batch 17000\n",
      "finished batch 18000\n",
      "finished batch 19000\n",
      "finished batch 20000\n",
      "finished batch 21000\n",
      "finished batch 22000\n",
      "finished batch 23000\n",
      "finished batch 24000\n",
      "finished batch 25000\n"
     ]
    }
   ],
   "source": [
    "for i in range(0, 26000, 1000):\n",
    "    images = np.load(f'Processed_images/test/inception_input_image_batch_{i}.npy')\n",
    "    dataset = tf.data.Dataset.from_tensor_slices(images)\n",
    "    images_batch = dataset.batch(batch_size)\n",
    "    \n",
    "    # Calculate latent vectors for each batch\n",
    "    latent_vectors_list = []\n",
    "    for batch in images_batch:\n",
    "        latent_vectors = calculate_latent_vectors(batch)\n",
    "        latent_vectors_list.append(latent_vectors)\n",
    "    \n",
    "    # Stack latent vectors from different batches\n",
    "    latent_vectors_stacked = tf.concat(latent_vectors_list, axis=0)\n",
    "    \n",
    "    # Save latent vectors to a file\n",
    "    np.save(f'latent_vectors/test/batch_{i}.npy', latent_vectors_stacked.numpy())\n",
    "    print(f'finished batch {i}')"
   ]
  },
  {
   "cell_type": "code",
   "execution_count": null,
   "id": "12f307e6-4730-414e-a2fe-9cda2ea05e80",
   "metadata": {},
   "outputs": [],
   "source": []
  },
  {
   "cell_type": "markdown",
   "id": "d730df26-c8dd-4d65-9108-2fff65de84f4",
   "metadata": {},
   "source": [
    "# Train model using latent vectors"
   ]
  },
  {
   "cell_type": "code",
   "execution_count": 9,
   "id": "86244972-78f1-4259-b81b-aa1cedc76e2a",
   "metadata": {},
   "outputs": [],
   "source": [
    "train_latent = []\n",
    "\n",
    "for i in range(0, 76000, 1000):\n",
    "    batch_filename = f'latent_vectors/train/batch_{i}.npy'\n",
    "    latent_vectors_batch = np.load(batch_filename)\n",
    "    train_latent.extend(latent_vectors_batch)\n",
    "    \n",
    "    \n",
    "train_latent = np.array(train_latent)"
   ]
  },
  {
   "cell_type": "code",
   "execution_count": 42,
   "id": "73a73ab9-8155-49ee-9390-4ba98877ac5e",
   "metadata": {},
   "outputs": [],
   "source": [
    "train_labels = np.array(train_df['category'])\n",
    "\n",
    "label_encoder = LabelEncoder()\n",
    "train_labels_encoded = label_encoder.fit_transform(train_labels)\n",
    "\n",
    "# one-hot encoding\n",
    "y_train = tf.one_hot(train_labels_encoded, 101).numpy()\n"
   ]
  },
  {
   "cell_type": "code",
   "execution_count": 17,
   "id": "a9485aea-8cd0-4ccb-9d4b-e046e88f56a5",
   "metadata": {},
   "outputs": [
    {
     "name": "stdout",
     "output_type": "stream",
     "text": [
      "Epoch 1/50\n",
      "1894/1894 [==============================] - 10s 5ms/step - loss: 3.4867 - accuracy: 0.2010 - val_loss: 2.6729 - val_accuracy: 0.3550\n",
      "Epoch 2/50\n",
      "1894/1894 [==============================] - 12s 6ms/step - loss: 2.7157 - accuracy: 0.3503 - val_loss: 2.4097 - val_accuracy: 0.4338\n",
      "Epoch 3/50\n",
      "1894/1894 [==============================] - 12s 7ms/step - loss: 2.5269 - accuracy: 0.3997 - val_loss: 2.2540 - val_accuracy: 0.4685\n",
      "Epoch 4/50\n",
      "1894/1894 [==============================] - 12s 6ms/step - loss: 2.4202 - accuracy: 0.4281 - val_loss: 2.2191 - val_accuracy: 0.4839\n",
      "Epoch 5/50\n",
      "1894/1894 [==============================] - 11s 6ms/step - loss: 2.3412 - accuracy: 0.4504 - val_loss: 2.1722 - val_accuracy: 0.4927\n",
      "Epoch 6/50\n",
      "1894/1894 [==============================] - 11s 6ms/step - loss: 2.2723 - accuracy: 0.4654 - val_loss: 2.1114 - val_accuracy: 0.5090\n",
      "Epoch 7/50\n",
      "1894/1894 [==============================] - 22s 11ms/step - loss: 2.2192 - accuracy: 0.4811 - val_loss: 2.1232 - val_accuracy: 0.5054\n",
      "Epoch 8/50\n",
      "1894/1894 [==============================] - 21s 11ms/step - loss: 2.1695 - accuracy: 0.4905 - val_loss: 2.0853 - val_accuracy: 0.5163\n",
      "Epoch 9/50\n",
      "1894/1894 [==============================] - 11s 6ms/step - loss: 2.1355 - accuracy: 0.5014 - val_loss: 2.0518 - val_accuracy: 0.5241\n",
      "Epoch 10/50\n",
      "1894/1894 [==============================] - 13s 7ms/step - loss: 2.0930 - accuracy: 0.5117 - val_loss: 2.0402 - val_accuracy: 0.5317\n",
      "Epoch 11/50\n",
      "1894/1894 [==============================] - 12s 6ms/step - loss: 2.0599 - accuracy: 0.5203 - val_loss: 2.0295 - val_accuracy: 0.5332\n",
      "Epoch 12/50\n",
      "1894/1894 [==============================] - 12s 6ms/step - loss: 2.0313 - accuracy: 0.5256 - val_loss: 2.0221 - val_accuracy: 0.5361\n",
      "Epoch 13/50\n",
      "1894/1894 [==============================] - 21s 11ms/step - loss: 2.0035 - accuracy: 0.5344 - val_loss: 2.0028 - val_accuracy: 0.5398\n",
      "Epoch 14/50\n",
      "1894/1894 [==============================] - 21s 11ms/step - loss: 1.9695 - accuracy: 0.5415 - val_loss: 2.0172 - val_accuracy: 0.5398\n",
      "Epoch 15/50\n",
      "1894/1894 [==============================] - 10s 5ms/step - loss: 1.9493 - accuracy: 0.5486 - val_loss: 1.9927 - val_accuracy: 0.5485\n",
      "Epoch 16/50\n",
      "1894/1894 [==============================] - 11s 6ms/step - loss: 1.9218 - accuracy: 0.5518 - val_loss: 1.9789 - val_accuracy: 0.5539\n",
      "Epoch 17/50\n",
      "1894/1894 [==============================] - 11s 6ms/step - loss: 1.8947 - accuracy: 0.5585 - val_loss: 2.0037 - val_accuracy: 0.5472\n",
      "Epoch 18/50\n",
      "1894/1894 [==============================] - 12s 6ms/step - loss: 1.8730 - accuracy: 0.5632 - val_loss: 1.9899 - val_accuracy: 0.5516\n",
      "Epoch 19/50\n",
      "1894/1894 [==============================] - 22s 12ms/step - loss: 1.8504 - accuracy: 0.5710 - val_loss: 1.9813 - val_accuracy: 0.5504\n",
      "Epoch 20/50\n",
      "1894/1894 [==============================] - 22s 12ms/step - loss: 1.8274 - accuracy: 0.5751 - val_loss: 1.9920 - val_accuracy: 0.5516\n",
      "Epoch 21/50\n",
      "1894/1894 [==============================] - 11s 6ms/step - loss: 1.8028 - accuracy: 0.5811 - val_loss: 1.9879 - val_accuracy: 0.5537\n",
      "Epoch 22/50\n",
      "1894/1894 [==============================] - 11s 6ms/step - loss: 1.7832 - accuracy: 0.5850 - val_loss: 1.9881 - val_accuracy: 0.5557\n",
      "Epoch 23/50\n",
      "1894/1894 [==============================] - 11s 6ms/step - loss: 1.7646 - accuracy: 0.5903 - val_loss: 2.0004 - val_accuracy: 0.5504\n",
      "Epoch 24/50\n",
      "1894/1894 [==============================] - 12s 6ms/step - loss: 1.7417 - accuracy: 0.5974 - val_loss: 1.9842 - val_accuracy: 0.5585\n",
      "Epoch 25/50\n",
      "1894/1894 [==============================] - 22s 12ms/step - loss: 1.7245 - accuracy: 0.5987 - val_loss: 1.9728 - val_accuracy: 0.5583\n",
      "Epoch 26/50\n",
      "1894/1894 [==============================] - 21s 11ms/step - loss: 1.7126 - accuracy: 0.6030 - val_loss: 1.9863 - val_accuracy: 0.5601\n",
      "Epoch 27/50\n",
      "1894/1894 [==============================] - 11s 6ms/step - loss: 1.6993 - accuracy: 0.6060 - val_loss: 2.0096 - val_accuracy: 0.5607\n",
      "Epoch 28/50\n",
      "1894/1894 [==============================] - 11s 6ms/step - loss: 1.6805 - accuracy: 0.6098 - val_loss: 1.9971 - val_accuracy: 0.5600\n",
      "Epoch 29/50\n",
      "1894/1894 [==============================] - 10s 6ms/step - loss: 1.6547 - accuracy: 0.6164 - val_loss: 2.0177 - val_accuracy: 0.5595\n",
      "Epoch 30/50\n",
      "1894/1894 [==============================] - 11s 6ms/step - loss: 1.6445 - accuracy: 0.6182 - val_loss: 1.9888 - val_accuracy: 0.5638\n",
      "Epoch 31/50\n",
      "1894/1894 [==============================] - 21s 11ms/step - loss: 1.6305 - accuracy: 0.6214 - val_loss: 1.9908 - val_accuracy: 0.5630\n",
      "Epoch 32/50\n",
      "1894/1894 [==============================] - 21s 11ms/step - loss: 1.6121 - accuracy: 0.6275 - val_loss: 2.0125 - val_accuracy: 0.5659\n",
      "Epoch 33/50\n",
      "1894/1894 [==============================] - 11s 6ms/step - loss: 1.5889 - accuracy: 0.6319 - val_loss: 2.0079 - val_accuracy: 0.5644\n",
      "Epoch 34/50\n",
      "1894/1894 [==============================] - 10s 6ms/step - loss: 1.5938 - accuracy: 0.6298 - val_loss: 2.0350 - val_accuracy: 0.5622\n",
      "Epoch 35/50\n",
      "1894/1894 [==============================] - 11s 6ms/step - loss: 1.5706 - accuracy: 0.6371 - val_loss: 2.0356 - val_accuracy: 0.5575\n",
      "Epoch 36/50\n",
      "1894/1894 [==============================] - 17s 9ms/step - loss: 1.5502 - accuracy: 0.6433 - val_loss: 2.0224 - val_accuracy: 0.5673\n",
      "Epoch 37/50\n",
      "1894/1894 [==============================] - 27s 14ms/step - loss: 1.5456 - accuracy: 0.6413 - val_loss: 1.9984 - val_accuracy: 0.5704\n",
      "Epoch 38/50\n",
      "1894/1894 [==============================] - 15s 8ms/step - loss: 1.5304 - accuracy: 0.6458 - val_loss: 2.0289 - val_accuracy: 0.5696\n",
      "Epoch 39/50\n",
      "1894/1894 [==============================] - 13s 7ms/step - loss: 1.5203 - accuracy: 0.6472 - val_loss: 2.0509 - val_accuracy: 0.5637\n",
      "Epoch 40/50\n",
      "1894/1894 [==============================] - 12s 6ms/step - loss: 1.5099 - accuracy: 0.6499 - val_loss: 2.0429 - val_accuracy: 0.5646\n",
      "Epoch 41/50\n",
      "1894/1894 [==============================] - 16s 8ms/step - loss: 1.4895 - accuracy: 0.6548 - val_loss: 2.0694 - val_accuracy: 0.5599\n",
      "Epoch 42/50\n",
      "1894/1894 [==============================] - 22s 11ms/step - loss: 1.4799 - accuracy: 0.6600 - val_loss: 2.0611 - val_accuracy: 0.5639\n",
      "Epoch 43/50\n",
      "1894/1894 [==============================] - 16s 9ms/step - loss: 1.4697 - accuracy: 0.6607 - val_loss: 2.0459 - val_accuracy: 0.5695\n",
      "Epoch 44/50\n",
      "1894/1894 [==============================] - 12s 6ms/step - loss: 1.4631 - accuracy: 0.6627 - val_loss: 2.0520 - val_accuracy: 0.5663\n",
      "Epoch 45/50\n",
      "1894/1894 [==============================] - 12s 6ms/step - loss: 1.4496 - accuracy: 0.6667 - val_loss: 2.0750 - val_accuracy: 0.5643\n",
      "Epoch 46/50\n",
      "1894/1894 [==============================] - 21s 11ms/step - loss: 1.4295 - accuracy: 0.6689 - val_loss: 2.0720 - val_accuracy: 0.5642\n",
      "Epoch 47/50\n",
      "1894/1894 [==============================] - 22s 12ms/step - loss: 1.4277 - accuracy: 0.6708 - val_loss: 2.0719 - val_accuracy: 0.5630\n",
      "Epoch 48/50\n",
      "1894/1894 [==============================] - 13s 7ms/step - loss: 1.4108 - accuracy: 0.6751 - val_loss: 2.0735 - val_accuracy: 0.5677\n",
      "Epoch 49/50\n",
      "1894/1894 [==============================] - 12s 6ms/step - loss: 1.4061 - accuracy: 0.6764 - val_loss: 2.0944 - val_accuracy: 0.5681\n",
      "Epoch 50/50\n",
      "1894/1894 [==============================] - 11s 6ms/step - loss: 1.3984 - accuracy: 0.6762 - val_loss: 2.1138 - val_accuracy: 0.5628\n"
     ]
    },
    {
     "data": {
      "text/plain": [
       "<keras.src.callbacks.History at 0x7fc16b7b6f10>"
      ]
     },
     "execution_count": 17,
     "metadata": {},
     "output_type": "execute_result"
    }
   ],
   "source": [
    "input_size = 2048\n",
    "num_classes = 101\n",
    "N_PIXELS = 299*299*3\n",
    "\n",
    "model = models.Sequential()\n",
    "\n",
    "model.add(layers.Dense(512, activation='sigmoid', use_bias=True, \n",
    "                       kernel_initializer=initializers.TruncatedNormal(stddev=N_PIXELS**-0.5)))\n",
    "\n",
    "model.add(layers.Dropout(0.3))\n",
    "\n",
    "model.add(layers.Dense(256, activation='relu', kernel_regularizer=regularizers.l2(0.001)))\n",
    "\n",
    "model.add(layers.Dropout(0.5))\n",
    "\n",
    "model.add(layers.Dense(128, activation='relu', kernel_regularizer=regularizers.l2(0.001)))\n",
    "\n",
    "model.add(layers.Dense(num_classes, activation='softmax'))\n",
    "\n",
    "model.compile(optimizer='adam',\n",
    "              loss='categorical_crossentropy',\n",
    "              metrics=['accuracy'])\n",
    "\n",
    "\n",
    "# Combine input data and labels\n",
    "all_data = np.hstack((train_latent, y_train))\n",
    "\n",
    "# Shuffle the entire dataset\n",
    "np.random.shuffle(all_data)\n",
    "\n",
    "# Split the shuffled dataset into training and validation sets\n",
    "train_data, val_data = train_test_split(all_data, test_size=0.2)\n",
    "\n",
    "x_train = train_data[:, :-num_classes]\n",
    "y_train = train_data[:, -num_classes:]\n",
    "\n",
    "x_val = val_data[:, :-num_classes]\n",
    "y_val = val_data[:, -num_classes:]\n",
    "\n",
    "# Train the model with the shuffled data\n",
    "model.fit(x_train, y_train, epochs=50, batch_size=32, validation_data=(x_val, y_val))\n",
    "\n"
   ]
  },
  {
   "cell_type": "code",
   "execution_count": 18,
   "id": "c367f485-001e-47bd-bfed-2c27f52b173a",
   "metadata": {},
   "outputs": [],
   "source": [
    "model.save('food101_final_model.keras')"
   ]
  },
  {
   "cell_type": "code",
   "execution_count": 45,
   "id": "45b6fbb0",
   "metadata": {},
   "outputs": [
    {
     "data": {
      "text/plain": [
       "['image_label_encoder.pkl']"
      ]
     },
     "execution_count": 45,
     "metadata": {},
     "output_type": "execute_result"
    }
   ],
   "source": [
    "import joblib\n",
    "joblib.dump(label_encoder, 'image_label_encoder.pkl')"
   ]
  },
  {
   "cell_type": "code",
   "execution_count": 20,
   "id": "21ec5e77",
   "metadata": {},
   "outputs": [],
   "source": [
    "test_latent = []\n",
    "\n",
    "for i in range(0, 26000, 1000):\n",
    "    batch_filename = f'latent_vectors/test/batch_{i}.npy'\n",
    "    latent_vectors_batch = np.load(batch_filename)\n",
    "    test_latent.extend(latent_vectors_batch)\n",
    "    \n",
    "    \n",
    "test_latent = np.array(test_latent)"
   ]
  },
  {
   "cell_type": "code",
   "execution_count": 29,
   "id": "c509b6c4",
   "metadata": {},
   "outputs": [],
   "source": [
    "test_labels = np.array(test_df['category'])\n",
    "test_labels_encoded = label_encoder.fit_transform(test_labels)\n",
    "y_test = tf.one_hot(test_labels_encoded, 101).numpy()\n",
    "test_data = np.hstack((test_latent, y_test))\n",
    "np.random.shuffle(test_data)\n",
    "\n",
    "x_test = test_data[:, :-num_classes]\n",
    "y_test = test_data[:, -num_classes:]\n",
    "\n"
   ]
  },
  {
   "cell_type": "code",
   "execution_count": 30,
   "id": "1a9da05f",
   "metadata": {},
   "outputs": [
    {
     "name": "stdout",
     "output_type": "stream",
     "text": [
      "790/790 [==============================] - 1s 948us/step\n"
     ]
    }
   ],
   "source": [
    "predictions = model.predict(x_test)\n",
    "predicted_labels = np.argmax(predictions, axis=1)\n",
    "true_labels = np.argmax(y_test, axis=1)\n",
    "\n",
    "# Calculate accuracy\n",
    "accuracy = accuracy_score(true_labels, predicted_labels)"
   ]
  },
  {
   "cell_type": "code",
   "execution_count": 33,
   "id": "6d6d6a36",
   "metadata": {},
   "outputs": [
    {
     "data": {
      "text/plain": [
       "0.6092277227722772"
      ]
     },
     "execution_count": 33,
     "metadata": {},
     "output_type": "execute_result"
    }
   ],
   "source": [
    "accuracy"
   ]
  },
  {
   "cell_type": "code",
   "execution_count": 38,
   "id": "76f45d7d",
   "metadata": {},
   "outputs": [],
   "source": [
    "predict_labels = label_encoder.inverse_transform(predicted_labels)"
   ]
  },
  {
   "cell_type": "code",
   "execution_count": 39,
   "id": "ca9ac845",
   "metadata": {},
   "outputs": [
    {
     "data": {
      "text/plain": [
       "array(['paella', 'garlic_bread', 'bread_pudding', ..., 'lobster_bisque',\n",
       "       'poutine', 'falafel'], dtype=object)"
      ]
     },
     "execution_count": 39,
     "metadata": {},
     "output_type": "execute_result"
    }
   ],
   "source": [
    "true_labels_original"
   ]
  },
  {
   "cell_type": "code",
   "execution_count": 40,
   "id": "8a549464",
   "metadata": {},
   "outputs": [
    {
     "data": {
      "text/plain": [
       "LabelEncoder()"
      ]
     },
     "execution_count": 40,
     "metadata": {},
     "output_type": "execute_result"
    }
   ],
   "source": [
    "label_encoder"
   ]
  },
  {
   "cell_type": "code",
   "execution_count": null,
   "id": "8f21c05a",
   "metadata": {},
   "outputs": [],
   "source": []
  },
  {
   "cell_type": "code",
   "execution_count": 13,
   "id": "6fb356fc-27e5-4e00-8095-e1493157b46a",
   "metadata": {},
   "outputs": [],
   "source": [
    "train_image = np.load('Processed_images/train/inception_input_image_batch_0.npy')"
   ]
  },
  {
   "cell_type": "code",
   "execution_count": 14,
   "id": "c4b3d725-eb41-4d5b-a63b-19b076bc1a5b",
   "metadata": {},
   "outputs": [
    {
     "data": {
      "text/plain": [
       "<matplotlib.image.AxesImage at 0x7fc17cd23130>"
      ]
     },
     "execution_count": 14,
     "metadata": {},
     "output_type": "execute_result"
    },
    {
     "data": {
      "image/png": "[encoded data removed]",
      "text/plain": [
       "<Figure size 432x288 with 1 Axes>"
      ]
     },
     "metadata": {
      "needs_background": "light"
     },
     "output_type": "display_data"
    }
   ],
   "source": [
    "import matplotlib.pyplot\n",
    "matplotlib.pyplot.rcParams[\"axes.grid\"] = False  \n",
    "matplotlib.pyplot.imshow(train_image[23][:, :, :])"
   ]
  },
  {
   "cell_type": "code",
   "execution_count": null,
   "id": "57c3a7b3-a349-4d33-bb67-934fddcc874f",
   "metadata": {},
   "outputs": [],
   "source": []
  },
  {
   "cell_type": "code",
   "execution_count": null,
   "id": "306dde35-1b46-4373-9e9d-f2e39d8732b6",
   "metadata": {},
   "outputs": [],
   "source": []
  },
  {
   "cell_type": "code",
   "execution_count": null,
   "id": "8149e77f-c0ac-41c9-abf6-e41b83dd7a80",
   "metadata": {},
   "outputs": [],
   "source": [
    "train_labels = np.array(train_df['category'])\n",
    "\n",
    "label_encoder = LabelEncoder()\n",
    "train_labels_encoded = label_encoder.fit_transform(train_labels)"
   ]
  },
  {
   "cell_type": "code",
   "execution_count": 44,
   "id": "759006de-60a5-47a4-a255-ad267fa4e340",
   "metadata": {},
   "outputs": [
    {
     "ename": "NameError",
     "evalue": "name 'joblib' is not defined",
     "output_type": "error",
     "traceback": [
      "\u001b[0;31m---------------------------------------------------------------------------\u001b[0m",
      "\u001b[0;31mNameError\u001b[0m                                 Traceback (most recent call last)",
      "Input \u001b[0;32mIn [44]\u001b[0m, in \u001b[0;36m<module>\u001b[0;34m\u001b[0m\n\u001b[0;32m----> 1\u001b[0m \u001b[43mjoblib\u001b[49m\u001b[38;5;241m.\u001b[39mdump(label_encoder, \u001b[38;5;124m'\u001b[39m\u001b[38;5;124mimage_label_encoder.pkl\u001b[39m\u001b[38;5;124m'\u001b[39m)\n",
      "\u001b[0;31mNameError\u001b[0m: name 'joblib' is not defined"
     ]
    }
   ],
   "source": []
  },
  {
   "cell_type": "code",
   "execution_count": null,
   "id": "a8560497",
   "metadata": {},
   "outputs": [],
   "source": []
  }
 ],
 "metadata": {
  "kernelspec": {
   "display_name": "Python 3 (ipykernel)",
   "language": "python",
   "name": "python3"
  },
  "language_info": {
   "codemirror_mode": {
    "name": "ipython",
    "version": 3
   },
   "file_extension": ".py",
   "mimetype": "text/x-python",
   "name": "python",
   "nbconvert_exporter": "python",
   "pygments_lexer": "ipython3",
   "version": "3.8.10"
  }
 },
 "nbformat": 4,
 "nbformat_minor": 5
}
